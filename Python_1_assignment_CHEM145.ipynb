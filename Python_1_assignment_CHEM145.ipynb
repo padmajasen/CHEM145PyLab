{
 "cells": [
  {
   "cell_type": "markdown",
   "id": "d28419c3-dae2-4181-9e63-82a09fe082fc",
   "metadata": {
    "colab_type": "text",
    "id": "IRhsynds9FmK",
    "tags": []
   },
   "source": [
    "## Python 1, CHEM 145\n",
    "\n",
    "This introduction to Python should provide students with some basic, skills for getting started programming with Python. If you take the time to build a bit of a foundation now, then as the need arises in your future courses you can work on growing your skills over time--it is well worth the effort for anyone in STEM disciplines to develop this skill. \n",
    "\n",
    "**Jupyter Notebook**\n",
    "\n",
    "This Python Jupyter Notebook is hosted by UW's Jupyterhub environment and is executable. That means you don't need to perform a special installation of Python on your own computer and you can get started programming directly using this web-hosted interface. There are comments, example code, and a series of tasks for you to complete. It is a good idea to try tinkering with the code a bit so you can get an idea of how it works. Looking up some Python guides online is also a great idea--there are many on the internet and there are a few resources at the end of this document.\n",
    "\n",
    "**Markdown and Code Cells in a Jupyter Notebook**\n",
    "\n",
    "In this Jupyter notebook, you can write and execute Python code and you can also take notes. \n",
    "\n",
    "Blocks of notebook content are divided into cells. This cell is an example of markdown text where you can have notes or instructions, etc., that aren't executed as code. When you click in a cell you will see text near the top of the Jupyter notebook that will list either \"Markdown\" or \"Code\"; you can also select that text to determine what sort of cell it is. Also, code cells have, to the left of them, a number in square brackets like this [1]. \n",
    "\n",
    "To execute a markdown cell or to execute a code cell, hold down the SHIFT key and then press the ENTER key. Press the ESCAPE key (or click the space to the left of a cell) to exit out of a markdown or code cell without executing the cell. When you are not in the mode to edit cells you can press the key 'a' to insert a cell before the currently selected one and the key, press 'b' to insert a cell after the currently selected one, or right-click to get some options like cut/paste/delete, etc.\n",
    "\n",
    "\n",
    "**Instructions**\n",
    "\n",
    "Complete the **15 TASKS** in this notebook. After you complete them, save and submit. To save, go to File \\ Save and Export Notebook As... \\ HTML. Then submit the HTML file to the Python assignment in Canvas. \n",
    "\n",
    "**TASK 1:** Double click this markdown cell (or click once and then press enter) so that you can edit it. Write your full name in the field below in place of the XXX. Click enter and then create a new line proclaiming \"CHEM 145 is YYY\" (replace YYY with a word or words). Then execute this markdown cell and observe the change in appearance. \n",
    "\n",
    "YOUR FULL NAME HERE: Padmaja Senthil Kumar\n",
    "CHEM 145 is fun\n",
    "\n",
    "**TASK 2:** Create a new markdown cell right below this one, and write into it \"I created this markdown cell. Next, I will execute a line of Python code.\" Then press shift-enter so that you exit out of edit mode in the cell. After that, execute the \"Hello World!\" code cell, below, by clicking in the cell and then pressing shift-enter."
   ]
  },
  {
   "cell_type": "code",
   "execution_count": 2,
   "id": "ab490af6-31dd-4873-bb91-a3372c5e107a",
   "metadata": {},
   "outputs": [
    {
     "data": {
      "text/plain": [
       "'I created this markdown cell. Next, I will execute a line of Python code.'"
      ]
     },
     "execution_count": 2,
     "metadata": {},
     "output_type": "execute_result"
    }
   ],
   "source": [
    "\"I created this markdown cell. Next, I will execute a line of Python code.\""
   ]
  },
  {
   "cell_type": "code",
   "execution_count": 3,
   "id": "fb9b2625-b883-4d1e-92b2-69d42599455c",
   "metadata": {
    "tags": []
   },
   "outputs": [
    {
     "name": "stdout",
     "output_type": "stream",
     "text": [
      "Hello, World!\n"
     ]
    }
   ],
   "source": [
    "print(\"Hello, World!\")"
   ]
  },
  {
   "cell_type": "markdown",
   "id": "08ebb064-bc69-4f14-a40c-1ac45a139ca0",
   "metadata": {
    "colab_type": "text",
    "id": "I5MgBqBCipN9"
   },
   "source": [
    "# Printing Strings\n",
    "\n",
    "To see the results of your code, or to determine whether the code is working, it is useful to display information to the user. In addition, comments are helpful for explaining what your code does to anyone else who reads it."
   ]
  },
  {
   "cell_type": "code",
   "execution_count": 1,
   "id": "651de571-e8f9-4be0-beb4-a213290a150c",
   "metadata": {
    "colab": {},
    "colab_type": "code",
    "id": "tZ8NMFVK9FmO",
    "tags": []
   },
   "outputs": [
    {
     "name": "stdout",
     "output_type": "stream",
     "text": [
      "Chemistry is AWESOME!\n",
      "Chemistry is awesome!\n",
      "H2O\n",
      "16\n",
      "64\n",
      "The most famous taxicab number is 1729, according to mathematicians.\n",
      "The floating-point number 123.456789 can be shown to only 3 decimal places... 123.457 ... see!\n",
      "It can be annoying to display very small or very large numbers, such as 0.00098765 or 987654321.\n",
      "Here are the numbers in scientific notation to 1 or 2 decimal places as 9.9e-04 and 9.88e+08.\n",
      "Succinct formatting, with pi to 2 decimal places is 3.14, or in scientific notation, 3.14e+00.\n"
     ]
    }
   ],
   "source": [
    "# Everything following a '#' symbol is a comment. Notice the comment text color. Is it more of a light teal or a dark turquoise?\n",
    "# Comments are not executed as code by Python. It is sometimes useful to hide some code snippets as a comment when you are testing your code.\n",
    "# Everything inside quotations marks is a string literal.\n",
    "\n",
    "print('Chemistry is AWESOME!') # Use \"double\" or 'single' quotes around strings.\n",
    "\n",
    "# Commas between strings concatenate (join) the strings with a space between the strings.\n",
    "print(\"Chemistry\", \"is\", \"awesome!\") \n",
    "\n",
    "# + symbols between strings concatenate strings without spaces.\n",
    "print(\"H\" + \"2\" + \"O\") \n",
    "\n",
    "# You can print a number or a string but mixing the two may produce errors. \n",
    "print(16)     # This asks the print command to display a numeric input. Notice that we can put comments to the right of code.\n",
    "print(\"64\")   # This asks the print command to display a text input (where the text is the characters 6 4).\n",
    "\n",
    "# To print a mix of numbers or strings, convert the numbers to a string and concatenate. This is useful for reporting the output of a calculation.\n",
    "print(\"The most famous taxicab number is \" + str(1729) + \", according to mathematicians.\")\n",
    "\n",
    "# You can control the output format of strings if you like. Web resource for formatting strings... https://pyformat.info/\n",
    "print(\"The floating-point number 123.456789 can be shown to only 3 decimal places... \" + \"%.3f\" % 123.456789 + \" ... see!\")\n",
    "print(\"It can be annoying to display very small or very large numbers, such as \" + str(0.00098765) + \" or \" + str(987654321) + \".\")\n",
    "print(\"Here are the numbers in scientific notation to 1 or 2 decimal places as \" + \"%.1e\" % 0.00098765 + \" and \" + \"%.2e\" % 987654321 + \".\")\n",
    "\n",
    "# Here is a more succinct way to format strings with numbers that avoids some of the annoyances of concatenating strings together.\n",
    "# Just enter {} where you want a number appear and then append .format(value) tothe print statement. You can do multiple {} instances in the print\n",
    "# string and then include separate values separated by commas in the format term as in the example, below. You can also insert in the curly braces {}\n",
    "# a string format specifier, but it seems to use : in place of %, for instance, :.2f instead of %.2f. See https://pyformat.info/.\n",
    "print(\"Succinct formatting, with pi to 2 decimal places is {:.2f}, or in scientific notation, {:.2e}.\".format(3.14159,3.14159))"
   ]
  },
  {
   "cell_type": "markdown",
   "id": "e97dad5e-4eb5-4a79-81d1-9e49523744fd",
   "metadata": {
    "tags": []
   },
   "source": [
    "# Help\n",
    "\n",
    "If you have a question about a command, you can of course search the internet. Try to collect together some useful resources. You can also ask Python to tell you about a function by entering the function preceded by a question mark. So for the print command, one would type ?print as in the following code cell. See what is returned. Sometimes this can be really helpful for what you may need, and other times not."
   ]
  },
  {
   "cell_type": "code",
   "execution_count": null,
   "id": "2dcf409b-715b-4ad5-a07d-4b8d2a734a81",
   "metadata": {},
   "outputs": [],
   "source": [
    "?print"
   ]
  },
  {
   "cell_type": "markdown",
   "id": "ad3d6abc-26be-434f-9f26-77a8d5a075db",
   "metadata": {
    "colab_type": "text",
    "id": "xMjlmjsIGXlf"
   },
   "source": [
    "**TASK 3:** Try to execute the following code cell with incorrect string syntax. Observe the error response and then correct the syntax and re-execute the cell until there are no further errors."
   ]
  },
  {
   "cell_type": "code",
   "execution_count": 6,
   "id": "ed6dc9dc-5ec6-433e-9308-bbceb94be1c7",
   "metadata": {
    "colab": {},
    "colab_type": "code",
    "id": "E0qzSXya9FmW",
    "tags": []
   },
   "outputs": [
    {
     "name": "stdout",
     "output_type": "stream",
     "text": [
      "Use correct syntax.\n",
      "Do not forget the quotes.\n",
      "Make sure single or double quotes match.\n",
      "Be sure to concatenate strings properly.\n"
     ]
    }
   ],
   "source": [
    "# TASK 3\n",
    "#\n",
    "# Correct the following print statements.\n",
    "print(\"Use correct syntax.\" )\n",
    "print(\"Do not forget the quotes.\")\n",
    "print('Make sure single or double quotes match.')\n",
    "print(\"Be sure to concatenate strings properly.\")"
   ]
  },
  {
   "cell_type": "markdown",
   "id": "9e2afa44-ae1d-4cdd-8df9-46ae34996d24",
   "metadata": {},
   "source": [
    "**TASK 4:** Fix the following code. Adjust the formatting string if necessary to match what the text says."
   ]
  },
  {
   "cell_type": "code",
   "execution_count": 17,
   "id": "dc3e2061-662e-4655-8a88-8899b2bdb8b2",
   "metadata": {
    "tags": []
   },
   "outputs": [
    {
     "name": "stdout",
     "output_type": "stream",
     "text": [
      "The value of pi is not 3.2, but Indiana almost passed a bill in 1897 stating this to be true.\n",
      "The golden ratio, shown to only 2 decimal places, is 1.62.\n",
      "The mass of a proton, displayed in scientific notation to 2 decimal places, is 1.67e-27 kg.\n",
      "The mass of the earth, displayed in scientific notation to 1 decimal place, is 6.0e+24 kg.\n"
     ]
    }
   ],
   "source": [
    "# TASK 4\n",
    "#\n",
    "# Correct the following.\n",
    "print(\"The value of pi is not \" + str(3.2) + \", but Indiana almost passed a bill in 1897 stating this to be true.\")\n",
    "print(\"The golden ratio, shown to only 2 decimal places, is \" + \"%.2f\" % 1.6180339887 + \".\")\n",
    "print(\"The mass of a proton, displayed in scientific notation to 2 decimal places, is \" + \"%.2e\" % 0.0000000000000000000000000016726219 + \" kg.\")\n",
    "print(\"The mass of the earth, displayed in scientific notation to 1 decimal place, is \" + \"%.1e\" % 5974200000000000000000000 + \" kg.\")"
   ]
  },
  {
   "cell_type": "markdown",
   "id": "3689f214-b838-4535-bce4-e6ed949ec4c7",
   "metadata": {
    "colab_type": "text",
    "id": "Elm2TRaPTxL5"
   },
   "source": [
    "## Arithmetic\n",
    "\n",
    "The Python syntax supports basic arithmetic operations."
   ]
  },
  {
   "cell_type": "code",
   "execution_count": null,
   "id": "7b864b36-f785-4c39-ad77-84985ca404c0",
   "metadata": {
    "colab": {},
    "colab_type": "code",
    "id": "MHmds-ze9Fmd"
   },
   "outputs": [],
   "source": [
    "# Be careful with the order of operations. Do you konw the mnemonic (memory aid) PEMDAS for order of operations in math? \n",
    "# PEMDAS That says the order goes as Parentheses, Exponents, Multiplication, Division, Addition, Subtraction.\n",
    "print(1 + 5 * 2)     # Python interprets the math as 1 + (5 * 2). See how \n",
    "print(1+5*2)         # You get the same answer with or without spaces. Spaces can help the reader understand the code better, though.\n",
    "print((1 + 5) * 2)   # Parentheses clarifies the operation order.\n",
    "print(4+5j + 2-3j)   # Use the symbol j to write complex numbers. Many programmers use the symbol i for an index in loops so j is used for complex numbers.\n",
    "print(\"4+5j + 2-3j\") # The use of quotes treats the symbols as characters not numbers.\n",
    "print(\"The double star symbol ** is for exponentiation (don't use ^), so that 3**2 = \" + str(3**2) + \".\")\n",
    "print(\"Exponents can be expressed as fractions, such as for the square root operation 81**0.5 = \" + str(81**0.5) + \".\")\n",
    "\n",
    "# Division and exponentiation operations.\n",
    "print(\"Use of a slash / for division is intuitive, with 14/3 = \" + \"%.2f\" % (14/3) + \".\")\n",
    "print(\"Use a double slash // for integer division, which rounds down and tosses remainder, with 14//3 = \" + str(14//3) + \".\")\n",
    "print(\"Use a percent symbol % for the modulo operation to get the remainder after division, with 14%3 = \" + str(14%3) + \".\")"
   ]
  },
  {
   "cell_type": "markdown",
   "id": "c00a78d8-625d-4b8e-86fe-0a21113f5ecd",
   "metadata": {
    "tags": []
   },
   "source": [
    "**TASK 5:** Code up the expression below in Python and display the result. Be careful with the order of operations. Your final answer should be 3. \n",
    "\n",
    "Here is a little advice. Consider building up the overall structure piece by piece. Try writing the parentheses first, always in pairs. After that fill in more stuff. Tracking down all the individual open and close parentheses is messy. \n",
    "\n",
    "The point here is to think about how to enter your code systematically and to be ready to check it for errors, **especially** when you don't know the correct answer at the outset.\n",
    "\n",
    "$$ \\large \\sqrt{ \\frac{3\\times5^3}{3^3-8^{1/3}}-\\left((3^3-5^2)^2+2\\right) } = ? $$"
   ]
  },
  {
   "cell_type": "code",
   "execution_count": 13,
   "id": "6a2cc59f-e757-4849-aa7b-c05c5dfe681b",
   "metadata": {},
   "outputs": [
    {
     "data": {
      "text/plain": [
       "'3.0'"
      ]
     },
     "execution_count": 13,
     "metadata": {},
     "output_type": "execute_result"
    }
   ],
   "source": [
    "str((((3*(5**3))/((3**3)-(8**(1/3))))-((((3**3)-(5**2))**2)+2))**0.5)"
   ]
  },
  {
   "cell_type": "code",
   "execution_count": 2,
   "id": "f6b52e91-e3d9-4109-ae43-543048fae2ad",
   "metadata": {
    "colab": {},
    "colab_type": "code",
    "id": "4keakRA4T5b9"
   },
   "outputs": [
    {
     "name": "stdout",
     "output_type": "stream",
     "text": [
      "sin(1) = 0.8414709848078965\n",
      "cos(pi/4) = 0.7071067811865476\n",
      "arctan(0.5) = 0.4636476090008061\n",
      "The expression math.exp(1) is the same as e raised to the first power, or 2.718281828459045.\n",
      "You can raise e to different powers by changing the arugment, such as math.exp(-1.5) = 0.22313016014842982.\n",
      "Square root can be calculated as math.sqrt(16) = 4.0 in case you don't want to use an exponent of 0.5 like 16**0.5.\n"
     ]
    }
   ],
   "source": [
    "# Trig functions are not built in to Python, so we need to import them from the math library. They are also available \n",
    "# in the numpy library to be mentioned later. Developers have created a gazillion different libraries. These instructions \n",
    "# will guide you to learn to import the libraries as you go, but programmers sometimes decide import packages at the top \n",
    "# of a notebook once and then be sure to execute that cell first.\n",
    "\n",
    "import math\n",
    "\n",
    "# Note how the trig functions sin, cos, atan are called from the math library as math.sin, etc. So the .sin or .cos functions are within the math library. \n",
    "print(\"sin(1) =\", math.sin(1))              # Angles are by default handled in radians, where pi radians corresponds to 180 degrees. 1 radian is ~57.3 degrees (180/pi).\n",
    "print(\"cos(pi/4) =\", math.cos(math.pi/4))   # The number pi can be obtained from the math package as math.pi. Note that pi/4 radians is the same as 45 degrees.\n",
    "print(\"arctan(0.5) =\", math.atan(0.5))      # Inverse or \"arc\" trig functions are designated as atan, asin, acos, etc., and return angles in radians. \n",
    "\n",
    "# The base of the natural logarithm e=2.718... can be obtained in the math (or later numpy) libraries as math.exp(1). \n",
    "print(\"The expression math.exp(1) is the same as e raised to the first power, or \" + str(math.exp(1)) + \".\")\n",
    "print(\"You can raise e to different powers by changing the arugment, such as math.exp(-1.5) = \" + str(math.exp(-1.5)) + \".\")\n",
    "\n",
    "# The math package (and later numpy package) also has a function for square root that might come up now and then.\n",
    "print(\"Square root can be calculated as math.sqrt(16) = \" + str(math.sqrt(16)) + \" in case you don't want to use an exponent of 0.5 like 16**0.5.\")"
   ]
  },
  {
   "cell_type": "markdown",
   "id": "9bc3e10d-195a-4954-9136-d24abef7d211",
   "metadata": {},
   "source": [
    "**TASK 6:** Restart the kernel by pressing the circle with arrow toward the top of this notebook page. That clears Python's memory and starts it fresh...that is a good skill to know in case there are old variables or libraries in memory that you don't want. Now, try to run the code cell below. Read the error message and figure out how to fix the code. \n",
    "\n",
    "Note that there are three things to learn in doing this task. The first is to get practice reading error messages when troubleshooting code. The second is to practice the skills shown in the above code cell. The third is to help you realize that executing code may save things in memory (RAM) that later cells may use so that later cells may only work when prior cells were executed."
   ]
  },
  {
   "cell_type": "code",
   "execution_count": 18,
   "id": "4563475b-b773-4718-bfe8-153c8abd6c06",
   "metadata": {},
   "outputs": [
    {
     "name": "stdout",
     "output_type": "stream",
     "text": [
      "cos(pi/4)**2 = 0.5000000000000001\n"
     ]
    }
   ],
   "source": [
    "# TASK 6\n",
    "#\n",
    "# Restart the kernel before running this cell. Then fix the errors cell so that can execute it on its own. \n",
    "# The correct answer is 0.5. Sometimes Python has tiny rounding errors.\n",
    "\n",
    "import math\n",
    "print(\"cos(pi/4)**2 =\", math.cos(math.pi/4)**2)"
   ]
  },
  {
   "cell_type": "markdown",
   "id": "cb1e6a2a-6fc3-4ba5-9bf1-3a4f36227520",
   "metadata": {
    "colab_type": "text",
    "id": "Nk3MxfUWXBPL"
   },
   "source": [
    "## Defining Variables\n",
    "\n",
    "Rather than enter numbers for calculations, you can define variables to represent numbers or other quantities. Variable names should start with letters (not numbers) or the underline sign. We won't get into it too much for now, but variables can be several types such as floating point numbers, integers, or strings."
   ]
  },
  {
   "cell_type": "code",
   "execution_count": null,
   "id": "fc3e198b-a1e4-44e6-a74e-cc021b14eab9",
   "metadata": {
    "colab": {},
    "colab_type": "code",
    "id": "Qzbmi6q39Fmj"
   },
   "outputs": [],
   "source": [
    "# You can define variables and update them later.\n",
    "x = 3\n",
    "print(\"At first, x = \" + str(x) + \".\") # Small note...printing a string and number concatenated with a comma can work but not concatenated with a +. Also, no formatting this way.\n",
    "x = 7**2\n",
    "print(\"Now, x = \" + str(x) + \".\")\n",
    "x = x + 1   # This is not an \"equation\". It is an instruction telling Python to make x equal to the old value of x plus 1.\n",
    "print(\"After incrementing by 1, x = \" + str(x) + \".\")\n",
    "x += 3   # This is shorthand that is equivalent to x = x + 3.\n",
    "print(\"After adding 3, x = \" + str(x) + \".\")"
   ]
  },
  {
   "cell_type": "code",
   "execution_count": null,
   "id": "1838638f-ef7b-43bb-bbae-6a0d9ffade83",
   "metadata": {},
   "outputs": [],
   "source": [
    "# You don't always have to write a print command to display a variable's value. You can just enter the variable or expression to have it displayed. \n",
    "# But, if you try to display more than one this way they may not show up. Print commands can display outputs multiple times within a cell.\n",
    "2**2\n",
    "3**2"
   ]
  },
  {
   "cell_type": "markdown",
   "id": "66dabfa6-a8dd-4812-913a-ad4894d08a82",
   "metadata": {},
   "source": [
    "## Practice calculations\n",
    "\n",
    "Now you will practice using Python as a simple calculator. It will probably initially be slower than using a handheld calculator, but once you are performing tasks that can be automated, Python can save you a lot of time.\n",
    "\n",
    "See the example calculation, below, for a general format for these tasks where you collect together your inputs, calculation, and output. DO NOT just combine a mess of numbers in your final expression without first defining variables.\n",
    "\n",
    "Here are a few *general notes on programming*. It is often helpful to write out a problem on paper first, before writing out a computer program. Then work systematically with your code and check that the different parts in it are doing what they should do. Try to stay organized and comment your code, including units and such for parameters. Find a way to validate the code, such as by using it to calculate something known. "
   ]
  },
  {
   "cell_type": "code",
   "execution_count": null,
   "id": "8eb78a7f-a902-4657-86cd-1136d24f8fc1",
   "metadata": {},
   "outputs": [],
   "source": [
    "# Example calculation of force on a mass due to gravity. \n",
    "# It is helpful to indicate the units for all these variables in comments. Also, generally be careful with units.\n",
    "\n",
    "# Inputs\n",
    "m = 1.5      # mass in kg\n",
    "g = 9.8      # gravitational acceleration in m/s^2\n",
    "\n",
    "# Calculation\n",
    "F = m*g      # calculate force in Newtons\n",
    "\n",
    "# Output, this time using succinct code for printing of text/number. You can format the output to be more or less succinct as you prefer.\n",
    "print(\"The force due to gravity on a {} kg mass is {:.2f} N.\".format(m,F))"
   ]
  },
  {
   "cell_type": "markdown",
   "id": "814a0d10-cd9e-4a80-9f7b-14153463fb51",
   "metadata": {},
   "source": [
    "**TASK 7:** Calculate the electron orbital radius for Li+2 ion when n=3 and have Python print a statement indicating its value in scientific notation to three decimal places such as \"The electron obital radius for Li+2 ion when n=3 is XXX m.\"\n",
    "\n",
    "Also calculate and have Python print a statement reporting the ionization energy of the electron in units of eV, J, and J/mol. Use simple decimal notation for the value in eV and scientific notation with two decimal places for the value in J and J/mol.\n",
    "\n",
    "The calculation uses equations from your text and requires knowledge of quantum number n, atomic number Z, and the Bohr radius (of the hydrogen atom for n=1)."
   ]
  },
  {
   "cell_type": "code",
   "execution_count": 1,
   "id": "0ec76c54-484f-477b-b9dd-2ad6aeccdc83",
   "metadata": {},
   "outputs": [
    {
     "name": "stdout",
     "output_type": "stream",
     "text": [
      "The electron orbital radius for a Li2+ ion when n=3 is 1.202e-69 m.\n"
     ]
    }
   ],
   "source": [
    "# TASK 7\n",
    "#\n",
    "# For the Li+2 ion, calculate the electron orbital radius and ionization energy.\n",
    "\n",
    "# Inputs\n",
    "import math\n",
    "n=3\n",
    "h= (6.626*(10**-34))\n",
    "m=6.941\n",
    "Z=3\n",
    "e=2\n",
    "\n",
    "# Calculation\n",
    "((n**2)*(h**2))/((4*(math.pi)**2)*m*Z*(e**2))\n",
    "\n",
    "# Output\n",
    "print(\"The electron orbital radius for a Li2+ ion when n=3 is \" + \"%.3e\" % 1.201662048733907e-69  + \" m.\")"
   ]
  },
  {
   "cell_type": "markdown",
   "id": "82263ff9-424b-4a04-81a6-5290f628174b",
   "metadata": {},
   "source": [
    "**TASK 8:** Calculate the kinetic energy in J for an electron acclerated by a 100 V potential. Calculate the de Broglie wavelength of the electron. Have Python print statements reporting their values in scientific notation to 2 decimal places and include units. "
   ]
  },
  {
   "cell_type": "code",
   "execution_count": 12,
   "id": "876feab0-9d33-4f6f-9659-243d9ca2c50d",
   "metadata": {},
   "outputs": [
    {
     "name": "stdout",
     "output_type": "stream",
     "text": [
      "The kinetic energy for an electron accelerated by a 100 V potential is 1.60e-17J.\n",
      "The de Broglie wavelength of the electron is 1.23e-10m.\n"
     ]
    }
   ],
   "source": [
    "# TASK 8\n",
    "#\n",
    "# Calculate the kinetic energy in J for an electron accelerated by a 100 V potential as well as the electron's de Broglie wavelength.\n",
    "\n",
    "# Inputs\n",
    "import math\n",
    "#Kinetic Energy\n",
    "q= (1.6*(10**-19))\n",
    "V= 100\n",
    "\n",
    "#de Broglie wavelength\n",
    "h= (6.626*(10**-34))\n",
    "m= (9.109*(10**-31))\n",
    "v= 5927064.292\n",
    "\n",
    "# Calculation\n",
    "#kinetic energy\n",
    "(q*V)\n",
    "\n",
    "#de Broglie wavelength\n",
    "(h/(m*v))\n",
    "# Output\n",
    "print(\"The kinetic energy for an electron accelerated by a 100 V potential is \"+ \"%.2e\" % 1.6e-17 + \"J.\")\n",
    "print( \"The de Broglie wavelength of the electron is \"+ \"%.2e\" % 1.2272727498634667e-10 + \"m.\")"
   ]
  },
  {
   "cell_type": "markdown",
   "id": "a48d0fbb-3a3d-4859-8c76-e0e2d6ae3ed2",
   "metadata": {},
   "source": [
    "## Arrays\n",
    "\n",
    "In the previous section you calculated one value at a time, much as you could for a calculator. Here you will practice using 1D arrays of numbers, such as you might do when using a spreadsheet. \n",
    "\n",
    "Each number in the array is an element. A 1D array has a single index that can be used to specify the position of the element in the array. Python counts starting at 0 so the first element is index zero. For the array x = [0.2 0.4 0.6 0.8 1.0], x[2] will return 0.6 which is the third element.\n",
    "\n",
    "A *negative* index refers to numbers from the back of the array starting counting from -1, so x[-2] will return the second element from the end, or 0.8."
   ]
  },
  {
   "cell_type": "code",
   "execution_count": 9,
   "id": "e2d3a528-3ce6-496a-964f-3ee9fd61dc41",
   "metadata": {},
   "outputs": [
    {
     "name": "stdout",
     "output_type": "stream",
     "text": [
      "The array f shows the first few numbers of the Fibonacci sequence, where f = [ 0  1  1  2  3  5  8 13 21 34].\n",
      "Array f initially contains 10 elements.\n",
      "The command f[6] returns the value 8.\n",
      "The second to last element of array f is given by f[-2] = 21.\n",
      "The command f[4:7] returs the values [3 5 8].\n",
      "After replacing the first element with 100, the array f has now become f = [100   1   1   2   3   5   8  13  21  34].\n",
      "Keeping all but the first element of f now gives us f = [ 1  1  2  3  5  8 13 21 34].\n",
      "Adding the last two elements together gives us the next number of the Fibonacci sequence, f = [ 1  1  2  3  5  8 13 21 34 55].\n",
      "The size of the array is 10.\n",
      "This syntax also returns the size of the array as 10.\n"
     ]
    }
   ],
   "source": [
    "# Arrays, part 1. \n",
    "\n",
    "import numpy as np # The package numpy is good for math and working with arrays in Python. \n",
    "# We will use lots of numpy features so we imported it as \"np\". Look for it in the examples below.\n",
    "# In principle, you could import numpy as npy or something else, but just stick with np here.\n",
    "\n",
    "# Manually build an array, perhaps with some numbers you measured.\n",
    "f = np.array([0, 1, 1, 2, 3, 5, 8, 13, 21, 34])\n",
    "print(\"The array f shows the first few numbers of the Fibonacci sequence, where f = {}.\".format(f))\n",
    "\n",
    "# Find the size of an array using np.size.\n",
    "print(\"Array f initially contains {} elements.\".format(np.size(f)))\n",
    "\n",
    "# Each element of the array has an index. The first element has the index 0 and an array with ten elements has the index 9 for the last element. Python counts \"starting from zero.\"\n",
    "print(\"The command f[6] returns the value {}.\".format(f[6]))\n",
    "\n",
    "# Negative indices count from the end of the array. The -1 element refers to the last element of the array, -2 element is the second-to-last, etc.\n",
    "print(\"The second to last element of array f is given by f[-2] = {}.\".format(f[-2]))\n",
    "\n",
    "# You can refer to a range of indices. The range 4:7 starts on index 4 and stops on index 6 (it doesn't go to 7!) and returns 3 elements.\n",
    "print(\"The command f[4:7] returs the values {}.\".format(f[4:7]))\n",
    "\n",
    "# When indexing elements in an array, you can read them out or else redefine them.\n",
    "f[0]=100\n",
    "print(\"After replacing the first element with 100, the array f has now become f = {}.\".format(f))\n",
    "\n",
    "# Redefine the array to keep only some desired elements.\n",
    "f = f[1:10]\n",
    "print(\"Keeping all but the first element of f now gives us f = {}.\".format(f))\n",
    "\n",
    "# Append new values to an array or concatenate whole arrays together.\n",
    "f = np.append(f,f[-1]+f[-2])\n",
    "print(\"Adding the last two elements together gives us the next number of the Fibonacci sequence, f = {}.\".format(f))\n",
    "\n",
    "# Find the size of the array.\n",
    "f_size = f.size\n",
    "print(\"The size of the array is {}.\".format(f_size))\n",
    "\n",
    "f_size2 = np.size(f)\n",
    "print(\"This syntax also returns the size of the array as {}.\".format(f_size2))"
   ]
  },
  {
   "cell_type": "code",
   "execution_count": 49,
   "id": "dfca8dac-b821-45a8-8664-16ebc2cd1290",
   "metadata": {
    "tags": []
   },
   "outputs": [
    {
     "name": "stdout",
     "output_type": "stream",
     "text": [
      "The linear array np.linspace(start=0,stop=10,num=11) = [ 0.  1.  2.  3.  4.  5.  6.  7.  8.  9. 10.].\n",
      "Squaring all elements of the matrix x gives y = x**2 = [  0.   1.   4.   9.  16.  25.  36.  49.  64.  81. 100.].\n",
      "Adding arrays like this adds their respective elements. Here, x+y=[  0.   2.   6.  12.  20.  30.  42.  56.  72.  90. 110.].\n",
      "Multiplying arrays like this multiplies their respective elements. Here, x*y=[   0.    1.    8.   27.   64.  125.  216.  343.  512.  729. 1000.].\n",
      "Multiplying arrays with different numbers of elements returns an error.\n"
     ]
    }
   ],
   "source": [
    "# Arrays, part 2.\n",
    "\n",
    "import numpy as np\n",
    "\n",
    "# Automatically create a linear array of values for a specified number of points between the start and stop values.\n",
    "x = np.linspace(start=0, stop=10, num=11)\n",
    "print(\"The linear array np.linspace(start=0,stop=10,num=11) = {}.\".format(x))\n",
    "\n",
    "# Or like this, for an array of 1000 points evenly spaced between 0 and 100.\n",
    "x2 = np.linspace(0, 100, 1000) \n",
    "\n",
    "# Perform a calculation on an array. The exponent operator ** raises all elements, where + would add to all elements, * would multiply, and so forth.\n",
    "y = x**2\n",
    "print(\"Squaring all elements of the matrix x gives y = x**2 = {}.\".format(y))\n",
    "\n",
    "# Operations with two or more arrays are simple. The commands below show element-wise operations, but the array sizes must be the same. \n",
    "print(\"Adding arrays like this adds their respective elements. Here, x+y={}.\".format(x+y))\n",
    "print(\"Multiplying arrays like this multiplies their respective elements. Here, x*y={}.\".format(x*y))\n",
    "print(\"Multiplying arrays with different numbers of elements returns an error.\")\n"
   ]
  },
  {
   "cell_type": "markdown",
   "id": "b1f6607e-8b2e-408c-98f8-e1f0982ab15c",
   "metadata": {},
   "source": [
    "**TASK 9:** Clear the kernel, then try to execute the following code cell. Observe the error response and then correct the syntax and re-execute the cell until there are no further errors. it might help to use the # symbol to comment out the code below the part that you have corrected."
   ]
  },
  {
   "cell_type": "code",
   "execution_count": 11,
   "id": "cd072f24-3b01-4d40-ac91-5f7d0cc29435",
   "metadata": {},
   "outputs": [
    {
     "name": "stdout",
     "output_type": "stream",
     "text": [
      "The array h shows the first nine values of the triangular number sequence, where h = [ 0  1  3  6 10 15 21 28 36 45].\n",
      "The second to last element of the array is given by h[-2]=36.\n",
      "Appending the next value manually to the sequence gives the array [ 0  1  3  6 10 15 21 28 36 45 55].\n",
      "Without looking at the array it is possible to find the next value of the sequence by adding the last value of the array,\n",
      "to the size of the array. That gives [  0   1   3   6  10  15  21  28  36  45  55  55  56  58  61  65  70  76\n",
      "  83  91 100 110].\n",
      "The difference of consecutive values follows a simple pattern [1 2 3 4 5 6 7 8].\n",
      "Intriguingly, square root of the sum of consecutive values follows the same pattern [1. 2.].\n"
     ]
    }
   ],
   "source": [
    "# TASK 9\n",
    "import numpy as np\n",
    "h = np.array([0, 1, 3, 6, 10, 15, 21, 28, 36, 45])\n",
    "print(\"The array h shows the first nine values of the triangular number sequence, where h = {}.\".format(h))\n",
    "\n",
    "print(\"The second to last element of the array is given by h[-2]={}.\".format(h[-2]))\n",
    "\n",
    "h_new = np.append(h,55)\n",
    "print(\"Appending the next value manually to the sequence gives the array {}.\".format(h_new))\n",
    "\n",
    "h_new2 = np.append(h_new,h_new[-1] + (h_new))\n",
    "print(\"Without looking at the array it is possible to find the next value of the sequence by adding the last value of the array,\")\n",
    "print(\"to the size of the array. That gives {}.\". format(h_new2))\n",
    "\n",
    "h_diff = h[1:-1] - h[0:-2]\n",
    "print(\"The difference of consecutive values follows a simple pattern {}.\".format(h_diff))\n",
    "\n",
    "h_consec = np.sqrt(h[0:2] + h[1:3])\n",
    "print(\"Intriguingly, square root of the sum of consecutive values follows the same pattern {}.\".format(h_consec))"
   ]
  },
  {
   "cell_type": "markdown",
   "id": "0bd2e9d3-8ff6-49cf-a740-30f5df5943e1",
   "metadata": {},
   "source": [
    "## Loops\n",
    "\n",
    "Here you will see how to use for loops to repeat procedures for a specified number of times. "
   ]
  },
  {
   "cell_type": "code",
   "execution_count": null,
   "id": "07367b02-f100-48ea-a387-b3cbb945dc0c",
   "metadata": {},
   "outputs": [],
   "source": [
    "# For loops, part 1.\n",
    "\n",
    "import numpy as np\n",
    "\n",
    "f = np.array([0, 1]) # Initialize the Fibonacci sequence. https://en.wikipedia.org/wiki/Fibonacci_number\n",
    "\n",
    "# Example loop. \n",
    "# The index of the loop is chosen here as i, and is set to go from 0 to 9 for 10 iterations. You could choose a different \n",
    "# variable name (don't choose j) and different start and stop values. Note the colon : and the indentation of the \"contents\" \n",
    "# of the loop in the second line. Here we are looping here over an index but one can also loop over a word or a \"dictionary\" \n",
    "# variable type, etc. \n",
    "\n",
    "for i in range(0, 10):\n",
    "    f = np.append(f,f[-1]+f[-2]) # For each iteration of the loop, append a new value to the sequence.\n",
    "    \n",
    "print(\"Array f = {}.\".format(f))\n",
    "    \n",
    "# Alternatively, define the variable ahead of time, for instance with zeros of the appropriate size, and assign new values to \n",
    "# specific indices when looping.\n",
    "g = np.zeros(12)\n",
    "g[1] = 1 # Seed the second value to be 1 so that the first and second elements of the Fibonacci sequence are initialized.\n",
    "\n",
    "for i in range(2,12): # Loops from index 2 through index 11.\n",
    "    g[i] = g[i-1] + g[i-2]\n",
    "\n",
    "print(\"Array g = {} ... this was made in a slightly different way from f.\".format(g))\n",
    "\n",
    "print() # Make a blank line in the output.\n",
    "\n",
    "# One can make nested for loops but be sure to use different indices for each loop. Here it is i for the outer loop and k for \n",
    "# the inner loop. Here, use loops to create a multiplication table for products of 1 through 10. Don't use j as an index for \n",
    "# a loop since j is used for imaginary numbers.\n",
    "m = np.zeros((10,10))\n",
    "for i in range(0, 10):\n",
    "    for k in range(0, 10):\n",
    "        m[i,k] = (i+1)*(k+1)\n",
    "\n",
    "print(\"Multiplication table, m = \")\n",
    "print(str(m))"
   ]
  },
  {
   "cell_type": "code",
   "execution_count": 10,
   "id": "c12ccfbb-6e23-462e-8a25-97bb0cf80052",
   "metadata": {},
   "outputs": [
    {
     "name": "stdout",
     "output_type": "stream",
     "text": [
      "It took 2.1e-04 seconds for 1 iterations of the loop.\n"
     ]
    }
   ],
   "source": [
    "# Sometimes with loops you may want to do loops for many iterations. You can keep track of progress or estimate the time for one iteration to see whether a large number is feasible. \n",
    "\n",
    "import numpy as np\n",
    "import time           # Import a library of functions related to time. We will use the function \"time\" within the library \"time\", which is time.time().\n",
    "\n",
    "n = 50 # Number of iterations of loop for generation of Fibonacci sequence numbers.\n",
    "f = np.array([0, 10])\n",
    "\n",
    "start = time.time() # Get the start time.\n",
    "for i in range(0, 1): \n",
    "    f = np.append(f,f[-1]+f[-2]) # For each iteration of the loop, append a new value to the sequence.\n",
    "stop = time.time() # Get the stop time.\n",
    "\n",
    "elapsed_time = stop - start\n",
    "\n",
    "print(\"It took {:.1e} seconds for {} iterations of the loop.\".format(elapsed_time,1))\n",
    "# Note that there are other nice time functions such as %timeit."
   ]
  },
  {
   "cell_type": "markdown",
   "id": "b4553c35-c27f-49a0-8285-621c8d2741a3",
   "metadata": {},
   "source": [
    "**TASK 10:** Use two nested loops to create a square matrix of Pythagorean triples (an example Pythagorean triple you probably know is 3^2 + 4^2 = 5^2). \n",
    "\n",
    "Here is a little more guidance. First, imagine each column of the square matrix represents the length of leg 1 of a right triangle, with values 0, 1, 2, ... 10. Then imagine each row of the square matrix represents the length of leg 2 of a right triangle, with values 0, 1, 2, ... 10. Now, create an empty matrix m where the two indices of the matrix will represent the leg lengths and the value of a matrix element will represent the hypotenuse length. Then use two nested loops (one for row and one for column) to loop over all elements of the array and to assign the value of the array using the Pythagorean theorem. For instance, m[3,4]=5 and m[0,2]=2. Finally, use print to have Python display your matrix. It will look better if you round to one decimal place. With numpy as np you can use np.round(123.456,1) to output 123.5."
   ]
  },
  {
   "cell_type": "code",
   "execution_count": 12,
   "id": "06733183-de5e-4787-b8d8-b7be53a884b5",
   "metadata": {},
   "outputs": [
    {
     "name": "stdout",
     "output_type": "stream",
     "text": [
      "{3} {4} {5}\n",
      "{4} {3} {5}\n",
      "{5} {12} {13}\n",
      "{6} {8} {10}\n",
      "{7} {24} {25}\n",
      "{8} {6} {10}\n",
      "{8} {15} {17}\n",
      "{9} {12} {15}\n",
      "{9} {40} {41}\n",
      "{10} {24} {26}\n",
      "{11} {60} {61}\n",
      "{12} {5} {13}\n",
      "{12} {9} {15}\n",
      "{12} {16} {20}\n",
      "{12} {35} {37}\n",
      "{13} {84} {85}\n",
      "{14} {48} {50}\n",
      "{15} {8} {17}\n",
      "{15} {20} {25}\n",
      "{15} {36} {39}\n",
      "{16} {12} {20}\n",
      "{16} {30} {34}\n",
      "{16} {63} {65}\n",
      "{18} {24} {30}\n",
      "{18} {80} {82}\n",
      "{20} {15} {25}\n",
      "{20} {21} {29}\n",
      "{20} {48} {52}\n",
      "{21} {20} {29}\n",
      "{21} {28} {35}\n",
      "{21} {72} {75}\n",
      "{24} {7} {25}\n",
      "{24} {10} {26}\n",
      "{24} {18} {30}\n",
      "{24} {32} {40}\n",
      "{24} {45} {51}\n",
      "{24} {70} {74}\n",
      "{25} {60} {65}\n",
      "{27} {36} {45}\n",
      "{28} {21} {35}\n",
      "{28} {45} {53}\n",
      "{30} {16} {34}\n",
      "{30} {40} {50}\n",
      "{30} {72} {78}\n",
      "{32} {24} {40}\n",
      "{32} {60} {68}\n",
      "{33} {44} {55}\n",
      "{33} {56} {65}\n",
      "{35} {12} {37}\n",
      "{35} {84} {91}\n",
      "{36} {15} {39}\n",
      "{36} {27} {45}\n",
      "{36} {48} {60}\n",
      "{36} {77} {85}\n",
      "{39} {52} {65}\n",
      "{39} {80} {89}\n",
      "{40} {9} {41}\n",
      "{40} {30} {50}\n",
      "{40} {42} {58}\n",
      "{40} {75} {85}\n",
      "{42} {40} {58}\n",
      "{42} {56} {70}\n",
      "{44} {33} {55}\n",
      "{45} {24} {51}\n",
      "{45} {28} {53}\n",
      "{45} {60} {75}\n",
      "{48} {14} {50}\n",
      "{48} {20} {52}\n",
      "{48} {36} {60}\n",
      "{48} {55} {73}\n",
      "{48} {64} {80}\n",
      "{51} {68} {85}\n",
      "{52} {39} {65}\n",
      "{54} {72} {90}\n",
      "{55} {48} {73}\n",
      "{56} {33} {65}\n",
      "{56} {42} {70}\n",
      "{57} {76} {95}\n",
      "{60} {11} {61}\n",
      "{60} {25} {65}\n",
      "{60} {32} {68}\n",
      "{60} {45} {75}\n",
      "{60} {63} {87}\n",
      "{63} {16} {65}\n",
      "{63} {60} {87}\n",
      "{64} {48} {80}\n",
      "{65} {72} {97}\n",
      "{68} {51} {85}\n",
      "{70} {24} {74}\n",
      "{72} {21} {75}\n",
      "{72} {30} {78}\n",
      "{72} {54} {90}\n",
      "{72} {65} {97}\n",
      "{75} {40} {85}\n",
      "{76} {57} {95}\n",
      "{77} {36} {85}\n",
      "{80} {18} {82}\n",
      "{80} {39} {89}\n",
      "{84} {13} {85}\n",
      "{84} {35} {91}\n"
     ]
    }
   ],
   "source": [
    "# For loops, part 2.\n",
    "\n",
    "import numpy as np\n",
    "\n",
    "for a in range (1,100):\n",
    "    for b in range(1,100):\n",
    "        for c in range (1,100):\n",
    "           if ((a**2) + (b**2))== c**2:\n",
    "                print({a},{b},{c})"
   ]
  },
  {
   "cell_type": "markdown",
   "id": "ffcc8146-2358-46cc-b842-e36c11b5dde6",
   "metadata": {},
   "source": [
    "**TASK 11:** Use a loop to create the first 20 values of the Padovan sequence, a sort of cousin of the Fibonacci sequence. Then show the sequence. See Wikipedia to figure out how to generate the sequence. (In short, the sequence initializes with 1, 1, 1. After that the value of the nth element is the sum of the values for n-2 and n-3. The sequence contiues as 2, 2, 3, 4, 5, 7 .... https://en.wikipedia.org/wiki/Padovan_sequence"
   ]
  },
  {
   "cell_type": "code",
   "execution_count": 13,
   "id": "5f70e825-37c5-45e6-adf0-de786c4982bf",
   "metadata": {},
   "outputs": [
    {
     "name": "stdout",
     "output_type": "stream",
     "text": [
      "[1, 1, 1, 2, 2, 3, 4, 5, 7, 9, 12, 16, 21, 28, 37, 49, 65, 86, 114, 151]\n"
     ]
    }
   ],
   "source": [
    "padovan_sequence = [1,1,1]\n",
    "\n",
    "for n in range (3,20):\n",
    "    next_value = padovan_sequence[n-2] + padovan_sequence[n-3]\n",
    "    padovan_sequence.append(next_value)\n",
    "print(padovan_sequence)"
   ]
  },
  {
   "cell_type": "markdown",
   "id": "5ae9126b-c7a9-4039-8564-189966506fd6",
   "metadata": {},
   "source": [
    "## Define Custom Functions\n",
    "You can define a custom function and pass variables to and from it. These can be nice for tasks that appear several times in your code."
   ]
  },
  {
   "cell_type": "code",
   "execution_count": null,
   "id": "5bf3a3bc-39a9-4924-997f-0ef4a953b066",
   "metadata": {},
   "outputs": [],
   "source": [
    "# Let's write and use a function that creates a bell curve (or Gaussian) funciton. Make sure you define the function before it is used.\n",
    "# A gaussian can be specified by height, position, and width paramters which we will call h, c, sd. (Sd is standard deviation.)\n",
    "\n",
    "# Here is the function definition for the \"gaussian\" function that has inputs h, c, sd as well position coordinate (x). \n",
    "# Note the syntax with the function name, the function inputs in parentheses, and the colon at the end of the first line.\n",
    "# The second line (and further lines if needed) contains the actual calculation and specifies what is returned. \n",
    "def gaussian(x, h, c, sd):\n",
    "    return h*np.exp(-((x-c)**2)/(2*sd**2))  # Gaussian\n",
    "\n",
    "# Parameters here\n",
    "c = 1\n",
    "h = 4\n",
    "sd = 1\n",
    "\n",
    "# We will use numpy to execute the gaussian. We want to create a 1D array of positions, x, that we can also feed to the Gaussian fucntion.\n",
    "import numpy as np\n",
    "x = np.linspace(-2,4,10)\n",
    "g = gaussian(x, h, c, sd)\n",
    "print(\"Gaussian function = \" , str(g))"
   ]
  },
  {
   "cell_type": "code",
   "execution_count": 3,
   "id": "89bfb874-2a40-4885-9d7d-5c29a499b712",
   "metadata": {},
   "outputs": [
    {
     "name": "stdout",
     "output_type": "stream",
     "text": [
      "The function pythag(3,4) returned the value 5.0.\n",
      "The triangle perimeter is 12.0.\n"
     ]
    }
   ],
   "source": [
    "# One function can call another.\n",
    "\n",
    "leg1 = 3\n",
    "leg2 = 4\n",
    "\n",
    "# Use the Pythagorean theorem to calculate the lenth of the hypotenuse of a right triangle.\n",
    "def pythag(leg1, leg2):\n",
    "    return (leg1**2 + leg2**2)**0.5\n",
    "\n",
    "leg3 = pythag(leg1, leg2)\n",
    "print(\"The function pythag(3,4) returned the value \" + str(leg3) + \".\")\n",
    "\n",
    "# Calculate the perimeter of a right triangle from the two short legs.\n",
    "def tri_perim(leg1, leg2):\n",
    "    return leg1 + leg2 + pythag(leg1, leg2)\n",
    "\n",
    "tp = tri_perim(leg1, leg2)\n",
    "print(\"The triangle perimeter is \" + str(tp) + \".\")\n",
    "\n",
    "# Of course, the combined function tri_perim could have been easily calculated in a single line; this was just a simple example. "
   ]
  },
  {
   "cell_type": "markdown",
   "id": "d6b71a54-9c16-4c9a-9b1c-d8b1e2a11da9",
   "metadata": {},
   "source": [
    "**TASK 12:** Calculate pi using the simple infinite series, below, in a loop. Write a custom function for this. Figure out how long the loop takes to execute when doing 10^3, 10^5, and 10^7 loop iterations and save the estimates of pi. Program Python to print out the times and pi estimates for the different number of iterations, as in \"For 1e3, 1e5, 1e7 iterations, the calculations took 0.01, 0.1, and 1 second, returning values of pi = 3.32, 3.13, and 3.149, respectively.\"\n",
    "\n",
    "pi = 4*( 1 - 1/3 + 1/5 - 1/7 ... )\n",
    "\n",
    "Note: There are lots of ways to do this. Here is a suggestion. First, define a custom function called calc_pi that has an input n which is the number of iterations of the algorithm and which returns the estimate of pi that is pi_est. Second, run your function for different numbers of iterations, 1e3, 1e5, 1e7. Third, have Python spit out the result."
   ]
  },
  {
   "cell_type": "code",
   "execution_count": 7,
   "id": "a104beea-5598-45d8-b285-ae55407531de",
   "metadata": {},
   "outputs": [
    {
     "name": "stdout",
     "output_type": "stream",
     "text": [
      "For  1e+03 iterations, the calculations took 0.00 seconds, returning values of pi = 3.14059.\n",
      "For  1e+05 iterations, the calculations took 0.04 seconds, returning values of pi = 3.14158.\n",
      "For  1e+07 iterations, the calculations took 3.56 seconds, returning values of pi = 3.14159.\n"
     ]
    }
   ],
   "source": [
    "import time\n",
    "def calculate_pi(n):\n",
    "    pi_estimate = 0\n",
    "    for i in range(n):\n",
    "        term = (-1)** i/ (2*i+1)\n",
    "        pi_estimate += term\n",
    "    return 4 * pi_estimate\n",
    "\n",
    "iterations_list = [10**3, 10**5, 10**7]\n",
    "\n",
    "results = []\n",
    "\n",
    "for iterations in iterations_list:\n",
    "    start_time = time.time()\n",
    "    pi_estimate = calculate_pi(iterations)\n",
    "    elapsed_time = time.time() - start_time\n",
    "    results.append ((iterations, elapsed_time, pi_estimate))\n",
    "for iterations, elapsed_time, pi_estimate in results:\n",
    "    print(f\"For {iterations: .0e} iterations, the calculations took {elapsed_time:.2f} seconds, returning values of pi = {pi_estimate:.5f}.\")"
   ]
  },
  {
   "cell_type": "code",
   "execution_count": 14,
   "id": "59050803-bfeb-4a42-9309-65804b85f3d6",
   "metadata": {},
   "outputs": [
    {
     "data": {
      "image/png": "[encoded data removed]",
      "text/plain": [
       "<Figure size 640x480 with 1 Axes>"
      ]
     },
     "metadata": {},
     "output_type": "display_data"
    }
   ],
   "source": [
    "# BONUS PI CALCULATION\n",
    "    \n",
    "# The part below here is just for fun! No need to do anything. Execute this cell to run the the Chodnovsky algorithm to calculate pi. \n",
    "# How does the efficiency compare to your code? This code was adapted from the following website. \n",
    "# https://pi2e.ch/blog/2016/07/30/the-chudnovsky-formula/\n",
    "# https://pi2e.ch/blog/2016/07/30/the-chudnovsky-formula/\n",
    "#\n",
    "# Note how much of a difference a good algorithm makes! For the simple series in the above task, the algorithm takes 1-10 seconds to \n",
    "# accurately calculate ~7 digits of pi. In contrast, the Chudnovsky accurately calculated ~100 digits of pi in < 1 ms. \n",
    "\n",
    "import math\n",
    "import time\n",
    "import numpy as np\n",
    "import matplotlib.pyplot as plt\n",
    "\n",
    "# Use Decimal type with precision specified to 100 decimal places. \n",
    "from decimal import *\n",
    "getcontext().prec = 100\n",
    "\n",
    "# Define pi to 100 places\n",
    "pi = Decimal(\"3.1415926535897932384626433832795028841971693993751058209749445923078164062862089986280348253421170679\") # Pi to 100 decimal places\n",
    "\n",
    "# Function to compare two numbers and return # digits after decimal place that are the same.\n",
    "def compare_num_dig(num1,num2):\n",
    "    for n in range(0,100):\n",
    "        dig1 = (10*((num1*(10**n))%1))//1\n",
    "        dig2 = (10*((num2*(10**n))%1))//1\n",
    "        if dig1 != dig2:\n",
    "            break\n",
    "    return n\n",
    "\n",
    "# Factorial function usind Decimal type\n",
    "def factorial(n):\n",
    "    res = Decimal(1)\n",
    "    for x in range(1, n+1):\n",
    "        res *= Decimal(x)\n",
    "    return res\n",
    "\n",
    "# Calculate one term of the Chudnovsky series.\n",
    "def chudnovsky_term(n):\n",
    "    sign = Decimal(1) if n%2 == 0 else Decimal(-1)\n",
    "    x = factorial(6*n)/(factorial(n)**3)/factorial(3*n)\n",
    "    x *= (Decimal(13591409)+Decimal(545140134)*Decimal(n))/(Decimal(640320)**(Decimal(3)*Decimal(n)))\n",
    "    return sign*Decimal.sqrt(Decimal(10005))/Decimal(4270934400)*x\n",
    "\n",
    "# Calculate the first n_terms of the Chudnovsky series\n",
    "def chudnovsky(n_terms):\n",
    "    ch = Decimal(0)\n",
    "    for n in range(n_terms):\n",
    "        ch += chudnovsky_term(n)\n",
    "    #print(\"{0} terms: Delta = {1}\".format(n_terms, float(Decimal(1)/ch-pi)))\n",
    "    return ch\n",
    "\n",
    "# Actual code is here to execute calculation and measure speed.\n",
    "max_num_terms = 8\n",
    "num_corr_dec = np.zeros(max_num_terms)\n",
    "elapsed_time = np.zeros(max_num_terms)\n",
    "for n_terms in range(1,max_num_terms):\n",
    "    start_time = time.time()\n",
    "    ch = chudnovsky(n_terms)\n",
    "    elapsed_time[n_terms] = time.time() - start_time\n",
    "    num_corr_dec[n_terms] = compare_num_dig(Decimal(1)/ch,pi)\n",
    "\n",
    "# Plot result. It is so much faster! Even for just one or two iterations, wow.\n",
    "ax = plt.axes()\n",
    "plt.semilogx(elapsed_time, num_corr_dec,'.-')\n",
    "fs = 20\n",
    "plt.ylabel('# decimal places',{'fontsize':20})\n",
    "plt.xlabel('time [s]',{'fontsize':20})\n",
    "plt.title('Calculation of $\\pi$, (Chudnovsky)',{'fontsize':20}); # Used the semicolon to suppress unwanted text output here that would sort of be printed out."
   ]
  },
  {
   "cell_type": "markdown",
   "id": "18503f2f-3faa-4cc5-bc3d-eaac7bbe3f9a",
   "metadata": {},
   "source": [
    "## Plots\n",
    "Displaying data in the form of plots is often easier to understand than just displaying numeric values using the print function. It is possible to make really elaborate plots using Python, particularly with the matplotlib library, but here we will use a collection within the matplotlib library called pyplot. So we will import matplotlib.pyplot. You can find lots of details online on how to use pyplot online to control size, color, tick marks, line thickness, multiple overlayed plots, etc. E.g., https://matplotlib.org/stable/tutorials/introductory/pyplot.html or https://matplotlib.org/api/_as_gen/matplotlib.pyplot.plot.html\n"
   ]
  },
  {
   "cell_type": "code",
   "execution_count": null,
   "id": "b538b3f2-4235-42fa-8da0-b91bd1e22760",
   "metadata": {},
   "outputs": [],
   "source": [
    "# Example plot of a Gaussian (bell curve) function.\n",
    "\n",
    "import numpy as np\n",
    "import matplotlib.pyplot as plt\n",
    "\n",
    "# Gaussian (bell curve) input parameters\n",
    "sd = 2      # Gaussian standard deviation (controls width)\n",
    "c = -2      # Gaussian center position\n",
    "h = 5       # Gaussian height\n",
    "\n",
    "# Define input 1-d array.\n",
    "x = np.linspace(-10,10,100)          # Position 1-d array\n",
    "\n",
    "# Define a function to calculate the Gaussian with constants a (peak height), b (center position), and c (standard deviation--width parameter). \n",
    "def gaussian(x, h, c, sd):\n",
    "    return h*np.exp(-((x-c)**2)/(2*sd**2))  # Gaussian\n",
    "\n",
    "# Calculate the Gaussian.\n",
    "g1 = gaussian(x,h,c,sd)\n",
    "g2 = gaussian(x,h*1.5,c+3,sd/2)\n",
    "\n",
    "# Plot the data\n",
    "ax = plt.axes()                             # Create an axis to plot to it.\n",
    "ax.plot(x,g1, label='Gaussian 1')           # Plot the first Gaussian.\n",
    "ax.plot(x,g2, label='Gaussian 2')           # Plot the second Gaussian.\n",
    "\n",
    "# Get in the habit of labeling plot axes and using units whenever possible.\n",
    "fs = 20 # fontsize\n",
    "plt.xlabel('position [km]',{'fontsize': fs})\n",
    "plt.ylabel('height [km]',{'fontsize': fs})\n",
    "plt.title('Gaussian functions',{'fontsize': fs}); # A semicolon can suppress text output.\n",
    "ax.legend();\n"
   ]
  },
  {
   "cell_type": "markdown",
   "id": "2fa70dde-bc20-492b-8afc-2991e54d0c84",
   "metadata": {},
   "source": [
    "**TASK 13:** Define a custom function that creates an oscillating decaying exponential. The parameter $k$ determines how quickly it decays to zero while the paramter $\\nu$ determines the frequency of the oscillations. Create a plot of this function over the range 0 to 5 seconds with $k$=0.5/seconds, $\\nu$=2/second, and overlayed on that for the same time range with $k$=1seconds, $\\nu$=1.5/second. \n",
    "\n",
    "$$ \\large f(t) = e^{-kt}cos(2\\pi\\nu t) $$"
   ]
  },
  {
   "cell_type": "code",
   "execution_count": 16,
   "id": "5bdd38a0-6cf4-40ad-996f-21b036b1c2d7",
   "metadata": {},
   "outputs": [
    {
     "data": {
      "image/png": "[encoded data removed]",
      "text/plain": [
       "<Figure size 1000x600 with 1 Axes>"
      ]
     },
     "metadata": {},
     "output_type": "display_data"
    }
   ],
   "source": [
    "import numpy as np\n",
    "import matplotlib.pyplot as plt\n",
    "t= np.linspace (0,5,1000)\n",
    "def oscillating_decaying_exponential(k, nu):\n",
    "    return np.exp(-k*t)*np.sin(nu*t)\n",
    "\n",
    "k1 = 0.5\n",
    "nu1 = 2\n",
    "\n",
    "k2 = 1\n",
    "nu2 = 1.5\n",
    "\n",
    "\n",
    "y1 = oscillating_decaying_exponential(k1, nu1)\n",
    "y2 = oscillating_decaying_exponential(k2, nu2)\n",
    "\n",
    "plt.figure(figsize=(10, 6))\n",
    "plt.plot(t, y1, label= 'k=0.5, nu=2', color='cyan')\n",
    "plt.plot(t, y2, label='k=1, nu=1.5', color='orange')\n",
    "plt.title('Oscillating Decaying Exponential')\n",
    "plt.xlabel('Time (seconds)')\n",
    "plt.ylabel('Amplitude')\n",
    "plt.legend()\n",
    "plt.grid()\n",
    "plt.xlim(0, 5)\n",
    "plt.ylim(-1.5, 1.5)\n",
    "plt.show()\n"
   ]
  },
  {
   "cell_type": "markdown",
   "id": "680e8ad4-c8ed-45dd-9b56-67f92aab5bc2",
   "metadata": {
    "tags": []
   },
   "source": [
    "## Loading Data\n",
    "\n",
    "Here you will learn a simple way to open a data file with Python. \n",
    "\n",
    "On Canvas in Files\\Python\\Python 1, you can find two sample data files, 'sample_data_1.txt' and 'sample_data_2.qmbl'. You can download and then open both of these files with a text reader with a computer. Sometimes computers complain about unfamiliar extensions, but find a way to open each. You will see both contain text. The file 'sample_data_1.txt' is a 2D matrix containing 1024 rows and 2 columns. The file 'sample_data_2.qmbl' has a bunch of xml markup code that you can ignore. Scan through the whole file and you will see two long lists of numbers. The first list is wavelength in nm. The second list is absorbance."
   ]
  },
  {
   "cell_type": "markdown",
   "id": "5205076f-e212-4c4a-8b87-d5d7837237f8",
   "metadata": {},
   "source": [
    "**TASK 14:** Copy 'sample_data_1.txt' from Canvas to your Jupyter workspace by dragging it into the file list window on the left. You should see it show up in your list of files. Execute the next code cell and observe the output. If you get an error, make sure that the sample data file has the expected name and is in the expected location. Add to the code cell to create axis labels including 'time [s]' for the x-axis and 'intensity [arb.]' for the y-axis (arb. is short for arbitrary). Add a title to the plot that merely includes the file name 'sample_data_1.txt'."
   ]
  },
  {
   "cell_type": "code",
   "execution_count": 29,
   "id": "f6289ef1-3ff7-472f-afb3-f6e2698e8455",
   "metadata": {
    "tags": []
   },
   "outputs": [
    {
     "data": {
      "text/plain": [
       "Text(0, 0.5, 'Intensity (arb.)')"
      ]
     },
     "execution_count": 29,
     "metadata": {},
     "output_type": "execute_result"
    },
    {
     "data": {
      "image/png": "[encoded data removed]",
      "text/plain": [
       "<Figure size 640x480 with 1 Axes>"
      ]
     },
     "metadata": {},
     "output_type": "display_data"
    }
   ],
   "source": [
    "# TASK 15\n",
    "#\n",
    "# Practice loading data from a file.  \n",
    "\n",
    "import numpy as np\n",
    "import matplotlib.pyplot as plt\n",
    "D = np.loadtxt('sample_data_1.txt')   # load data into array D\n",
    "\n",
    "ax = plt.axes()           # Create an axis\n",
    "ax.plot(D[:,0],D[:,1])    # Plot the data\n",
    "\n",
    "plt. title('sample_data_1.txt')\n",
    "plt. xlabel('Time (s)')\n",
    "plt. ylabel('Intensity (arb.)')"
   ]
  },
  {
   "cell_type": "markdown",
   "id": "f0644315-0557-467f-b8ff-6f0d3706da35",
   "metadata": {
    "tags": []
   },
   "source": [
    "**TASK 15:** Next you will create a plot of the data from 'sample_data_2.qmbl'. That file has data in it plus a bunch of meta information. It's possible to come up with an xml reader or to write a script from scratch to read that, but probably not worth the time. Here is a simple workaround that just takes a minute using Microsoft Excel. Note that Excel is freely available to all UW students. \n",
    "* First, use a text reader like Notepad++ to open 'sample_data_2.qmbl'. Second, scroll through the file to find the long list of wavelengths starting with the number 380.2 and ending with the number 949.7. Then copy that whole list of wavelengths and paste it into column 1 of a new, blank spreadsheet. \n",
    "* Second, scroll through the sample data file to find the list of absorbances. The first value in that list is 0.04357 and the last value of that list is 0.00836 (these values are only shown to 5 decimal places here). Copy that whole list of absorbances and paste it into column 2 of your spreadsheet next to the wavelengths. Check that your wavelengths and absorbances are aligned by scrolling through your spreadsheet. \n",
    "* Third, use Excel to save your spreadsheet as a .txt file, for instance with the name 'sample_data_2.txt'. Then upload that new file to your Jupyter workspace where your notebook is. \n",
    "* Fourth, write some code to load 'sample_data_2.txt' and to create a plot of absorbance vs wavelength. Lable the y-axis 'absorbance' and the x-axis 'wavelength [nm]' and put in the title 'sample_data_2.txt'.\n",
    "\n",
    "Also note that on Canvas in Files\\miscellaneous\\UVvis_videos there is a video \"QMBL_file_export_data.mp4\" on how to manually process the .qmbl file before loading."
   ]
  },
  {
   "cell_type": "code",
   "execution_count": 32,
   "id": "4bb1328b-9ddd-4470-8e3a-3f2d1518fbee",
   "metadata": {},
   "outputs": [
    {
     "data": {
      "text/plain": [
       "Text(0, 0.5, 'absorbance')"
      ]
     },
     "execution_count": 32,
     "metadata": {},
     "output_type": "execute_result"
    },
    {
     "data": {
      "image/png": "[encoded data removed]",
      "text/plain": [
       "<Figure size 640x480 with 1 Axes>"
      ]
     },
     "metadata": {},
     "output_type": "display_data"
    }
   ],
   "source": [
    "import numpy as np\n",
    "import matplotlib.pyplot as plt\n",
    "D = np.loadtxt('sample_data_2.txt')   # load data into array D\n",
    "\n",
    "ax = plt.axes()           # Create an axis\n",
    "ax.plot(D[:,0],D[:,1])    # Plot the data\n",
    "\n",
    "plt. title('sample_data_2.txt')\n",
    "plt. xlabel('wavelength [nm]')\n",
    "plt. ylabel('absorbance')"
   ]
  },
  {
   "cell_type": "markdown",
   "id": "83480b8e-86ce-4ec7-bbc7-782e1e9736a1",
   "metadata": {},
   "source": [
    "**Submitting this assignment.** Go to File \\ Save and Export Notebook As... \\ HTML. Then submit the HTML file to the Python assignment in Canvas.\n"
   ]
  },
  {
   "cell_type": "markdown",
   "id": "cdce8b9a-f400-4d75-ae7e-f51f6ff39a20",
   "metadata": {
    "colab_type": "text",
    "id": "GdcI3o3zW0Cy",
    "jp-MarkdownHeadingCollapsed": true,
    "tags": []
   },
   "source": [
    "## Resources\n",
    "\n",
    "Most computer programmers learn to quickly find and have available key references or documentation \n",
    "at hand. Here is some documentation on the math module as well as some other modules that are available.\n",
    "\n",
    "Learn more about the math module here:\n",
    "https://docs.python.org/3/library/math.html\n",
    "\n",
    "The math module is one of many standard libraries that come with Python:\n",
    "https://docs.python.org/3/library/index.html\n",
    "\n",
    "Other Python developers have made even more libraries that you can download:\n",
    "https://docs.anaconda.com/anaconda/packages/pkg-docs/\n",
    "\n",
    "Details on Jupyter Notebook markdown formatting.\n",
    "https://medium.com/ibm-data-science-experience/markdown-for-jupyter-notebooks-cheatsheet-386c05aeebed"
   ]
  },
  {
   "cell_type": "markdown",
   "id": "84edfd9c-9229-4c0d-a6f1-fd785a790cfe",
   "metadata": {},
   "source": [
    "## Acknowledgements\n",
    "\n",
    "This introductory guide to Python was started using materials by Parker Ruth in 2019-2020 and overhauled by Joshua Vaughan in 2020 and 2022. "
   ]
  }
 ],
 "metadata": {
  "kernelspec": {
   "display_name": "Python 3 (ipykernel)",
   "language": "python",
   "name": "python3"
  },
  "language_info": {
   "codemirror_mode": {
    "name": "ipython",
    "version": 3
   },
   "file_extension": ".py",
   "mimetype": "text/x-python",
   "name": "python",
   "nbconvert_exporter": "python",
   "pygments_lexer": "ipython3",
   "version": "3.10.13"
  }
 },
 "nbformat": 4,
 "nbformat_minor": 5
}
